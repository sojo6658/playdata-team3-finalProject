{
 "cells": [
  {
   "cell_type": "code",
   "execution_count": 1,
   "id": "d50f6392",
   "metadata": {},
   "outputs": [
    {
     "name": "stdout",
     "output_type": "stream",
     "text": [
      "                                                   0  \\\n",
      "0  001354e236075d013c8eb4b53120ab3571152522e28544...   \n",
      "1  001e386060c70832a656deeed81d014a983ef2e0577618...   \n",
      "2  00488bc91a30477b87c75d3c7289f8c43c59b3454f1935...   \n",
      "3  004f1f6318d64de636b7160f8725d0482c3ddd6db845c5...   \n",
      "4  006b84448a329c034747dfe4708897ddb8970e114155dd...   \n",
      "\n",
      "                              1  \n",
      "0                     솔리디티 깨부수기  \n",
      "1  디자이너의 스킬업을 위한 Lottie 완벽 이해하기  \n",
      "2     게임 개발을 위해 알아야 할 Azure CDN  \n",
      "3             Python 입문자를 위한 강의  \n",
      "4            따라하면 취업되는 게임기획 강의!  \n"
     ]
    }
   ],
   "source": [
    "import pymysql\n",
    "import pandas as pd\n",
    "from sklearn.feature_extraction.text import TfidfVectorizer\n",
    "from sklearn.metrics.pairwise import cosine_similarity\n",
    "# DB 연결 - db 정보 업데이트 필요\n",
    "connection = pymysql.connect(host='13.125.49.128', port=52795, user='root', password='asd456',\n",
    "                       db='chatbotBase', charset='utf8')\n",
    "\n",
    "# Now, we'll create a cursor and use it to execute a SELECT query\n",
    "with connection.cursor() as cursor:\n",
    "    sql = \"SELECT uuid, course_data FROM chat_bot2\"\n",
    "    cursor.execute(sql)\n",
    "    \n",
    "    # Fetch all the rows from the query\n",
    "    rows = cursor.fetchall()\n",
    "    \n",
    "    # Create a Pandas DataFrame from the rows\n",
    "    df = pd.DataFrame(rows)\n",
    "    \n",
    "    # You can use the DataFrame's `head` method to preview the first few rows of the data\n",
    "    print(df.head())\n",
    "\n",
    "# Don't forget to close the connection when you're done\n",
    "connection.close()"
   ]
  },
  {
   "cell_type": "markdown",
   "id": "765a8bcf",
   "metadata": {},
   "source": [
    "['uuid', 'url', 'course_data', 'categorie_data', 'keyword_data', 'course_info_data', 'grade_data', 'stu_num_data', 'teacher_data', 'playtime_data', 'level_data', 'price_data', 'review_data', 'dibs_num_data', 'teacher_info_data', 'course', 'categorie', 'keyword', 'course_info', 'grade', 'stu_num', 'teacher', 'playtime', 'level', 'price', 'review', 'dibs_num', 'teacher_info', 'ori_data']"
   ]
  },
  {
   "cell_type": "code",
   "execution_count": 2,
   "id": "820c53c7",
   "metadata": {},
   "outputs": [],
   "source": [
    "df2 = df.copy()"
   ]
  },
  {
   "cell_type": "code",
   "execution_count": 3,
   "id": "b9be69f3",
   "metadata": {},
   "outputs": [],
   "source": [
    "# 데이터프레임 컬럼명 변경\n",
    "df2.columns = ['uuid', 'course_data']"
   ]
  },
  {
   "cell_type": "code",
   "execution_count": 4,
   "id": "88f08bf7",
   "metadata": {},
   "outputs": [
    {
     "data": {
      "text/plain": [
       "0                                            솔리디티 깨부수기\n",
       "1                         디자이너의 스킬업을 위한 Lottie 완벽 이해하기\n",
       "2                            게임 개발을 위해 알아야 할 Azure CDN\n",
       "3                                    Python 입문자를 위한 강의\n",
       "4                                   따라하면 취업되는 게임기획 강의!\n",
       "                             ...                      \n",
       "1563                              초보자를 위한 R프로그래밍 핵심 교재\n",
       "1564       스프링 배치 - Spring Boot 기반으로 개발하는 Spring Batch\n",
       "1565    [김왼손의 왼손코딩] 미운코딩새끼: 4시간 만에 끝내는 파이썬 기초 (전자책 포함)\n",
       "1566          개발자는 왜 간단한 것도 안 된다고 하나요? (개발자와 커뮤니케이션하기)\n",
       "1567                    머신러닝/딥러닝 소개 및 학습을 위한 파이썬 속성 과정\n",
       "Name: course_data, Length: 1568, dtype: object"
      ]
     },
     "execution_count": 4,
     "metadata": {},
     "output_type": "execute_result"
    }
   ],
   "source": [
    "df2['course_data']"
   ]
  },
  {
   "cell_type": "code",
   "execution_count": 5,
   "id": "792af3ef",
   "metadata": {},
   "outputs": [
    {
     "name": "stdout",
     "output_type": "stream",
     "text": [
      "917       파이썬 무료 강의 (활용편7) - 머신러닝\n",
      "1114             Azure 가상컴퓨터 - 초급\n",
      "1094         코딩 초보자를 위한 파이썬 입문 강의\n",
      "1214            입문자를 위한 파이썬 기초 강의\n",
      "1533    SwiftUI 초급 강의 - 기본 개념 익히기\n",
      "Name: course_data, dtype: object\n"
     ]
    }
   ],
   "source": [
    "# Now, we'll use the TfidfVectorizer to convert the documents into numerical vectors\n",
    "vectorizer = TfidfVectorizer()\n",
    "vectors = vectorizer.fit_transform(df2['course_data'])\n",
    "\n",
    "# We'll create a new column in the DataFrame to store the vectors\n",
    "df2['vectors'] = list(vectors.toarray())\n",
    "\n",
    "# Next, we'll define a function to find the top 5 most similar documents to a given input sentence\n",
    "def get_similar_documents(df, input_sentence):\n",
    "    # Convert the input sentence into a vector\n",
    "    input_vector = vectorizer.transform([input_sentence])\n",
    "\n",
    "    # Calculate the similarity between the input vector and the vectors in the DataFrame\n",
    "    dit = dict()\n",
    "    for idx, x in enumerate(cosine_similarity(input_vector.toarray(), df['vectors'].tolist())[0]):\n",
    "        dit[idx] = x \n",
    "        \n",
    "    # Return the top 5 most similar documents\n",
    "    return df.iloc[[x[0] for x in sorted(dit.items(), key=lambda x : x[1])[-5:]]]['course_data']\n",
    "\n",
    "# Let's test the function with a sample input sentence\n",
    "input_sentence = \"파이썬 초급 강의\"\n",
    "print(get_similar_documents(df2, input_sentence))"
   ]
  },
  {
   "cell_type": "code",
   "execution_count": 6,
   "id": "8bd7f087",
   "metadata": {
    "scrolled": false
   },
   "outputs": [
    {
     "name": "stdout",
     "output_type": "stream",
     "text": [
      "1373    AZ-900 Microsoft Azure Fundamentals 자격증 준비하기\n",
      "2                          게임 개발을 위해 알아야 할 Azure CDN\n",
      "549                        게임 개발을 위해 알아야 할 Azure CDN\n",
      "814                                Azure 기초 (AZ-900)\n",
      "1114                                Azure 가상컴퓨터 - 초급\n",
      "Name: course_data, dtype: object\n"
     ]
    }
   ],
   "source": [
    "input_sentence = \"Azure\"\n",
    "print(get_similar_documents(df2, input_sentence))"
   ]
  },
  {
   "cell_type": "code",
   "execution_count": null,
   "id": "2ca47904",
   "metadata": {},
   "outputs": [],
   "source": [
    "df"
   ]
  }
 ],
 "metadata": {
  "kernelspec": {
   "display_name": "Python 3 (ipykernel)",
   "language": "python",
   "name": "python3"
  },
  "language_info": {
   "codemirror_mode": {
    "name": "ipython",
    "version": 3
   },
   "file_extension": ".py",
   "mimetype": "text/x-python",
   "name": "python",
   "nbconvert_exporter": "python",
   "pygments_lexer": "ipython3",
   "version": "3.9.12"
  }
 },
 "nbformat": 4,
 "nbformat_minor": 5
}
