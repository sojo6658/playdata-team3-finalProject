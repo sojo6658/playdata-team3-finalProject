{
 "cells": [
  {
   "cell_type": "markdown",
   "id": "5d6f8a10",
   "metadata": {},
   "source": [
    "# 크롤링"
   ]
  },
  {
   "cell_type": "code",
   "execution_count": 4,
   "id": "b96cfab6",
   "metadata": {},
   "outputs": [],
   "source": [
    "from selenium import webdriver\n",
    "from bs4 import BeautifulSoup\n",
    "import re\n",
    "import requests\n",
    "from urllib import request\n",
    "import pandas as pd\n",
    "from selenium.webdriver.common.by import By\n",
    "import time\n",
    "import pymysql\n",
    "import hashlib \n",
    "import base64\n",
    "head = {'User-Agent': 'Mozilla/5.0 (Windows NT 10.0; Win64; x64) AppleWebKit/537.36 (KHTML, like Gecko) Chrome/105.0.0.0 Safari/537.36'}"
   ]
  },
  {
   "cell_type": "code",
   "execution_count": 5,
   "id": "7247547c",
   "metadata": {},
   "outputs": [
    {
     "data": {
      "text/plain": [
       "['https://www.inflearn.com/courses/it-programming?order=seq',\n",
       " 'https://www.inflearn.com/courses/it?order=seq',\n",
       " 'https://www.inflearn.com/courses/data-science?order=seq',\n",
       " 'https://www.inflearn.com/courses/game-dev-all?order=seq']"
      ]
     },
     "execution_count": 5,
     "metadata": {},
     "output_type": "execute_result"
    }
   ],
   "source": [
    "driver = webdriver.Chrome()\n",
    "driver.get(\"https://www.inflearn.com/courses/it-programming?order=seq&page=1\")\n",
    "bs = BeautifulSoup(driver.page_source)\n",
    "menu_list=[]# 각 메뉴 별 링크\n",
    "menu = bs.findAll(\"div\", class_='accordion-body')\n",
    "for x in menu[:4]:\n",
    "    menu = x.select_one('a')['href'] # 각 메뉴 별 href\n",
    "    menu_list.append('https://www.inflearn.com' + menu )\n",
    "menu_list"
   ]
  },
  {
   "cell_type": "markdown",
   "id": "ed87b963",
   "metadata": {},
   "source": [
    "### 1. 1순위, 리뷰 데이터"
   ]
  },
  {
   "cell_type": "code",
   "execution_count": 6,
   "id": "dc148d34",
   "metadata": {},
   "outputs": [],
   "source": [
    "def text(x):\n",
    "    return x.text\n",
    "\n",
    "def main_url_html(f, main_url_page, soup_main_list): \n",
    "    '''f : 메뉴선택 0~3'''\n",
    "    for i in range(1,page_range):\n",
    "        main_urls = menu_list[f] + f'&page={i}' # 메뉴별 각 페이지 링크\n",
    "        main_url_page.append(main_urls)\n",
    "        main = requests.get(main_urls, headers=head)\n",
    "        soup_main = BeautifulSoup(main.text,'html.parser')\n",
    "        soup_main_list.append(soup_main) # 메인페이지 html\n",
    "        \n",
    "def course_url_fun(main_url_page, course_url):\n",
    "    for main_url in main_url_page: \n",
    "        main = requests.get(main_url, headers=head)\n",
    "        soup_main = BeautifulSoup(main.text,'html.parser')\n",
    "        soup_main = soup_main.findAll(\"a\", class_='course_card_front e_course_click') # 각 강의들\n",
    "        for y in soup_main:\n",
    "            course_url.append('https://www.inflearn.com' + y['href']) # 강의별 링크\n",
    "# uuid            \n",
    "def uuid_fun(course_url, uuid_list):\n",
    "    for url_s in course_url:\n",
    "        uuid = hashlib.sha256(url_s.encode()) \n",
    "        uuid_list.append(uuid.hexdigest())\n",
    "# 강의명\n",
    "def course_fun(course_url, title_list):\n",
    "    for course_ur in course_url:\n",
    "        soup_course = BeautifulSoup(requests.get(course_ur).text,'html.parser')\n",
    "        replace_word = soup_course.select_one(selector=\"h1.cd-header__title span\").text\n",
    "        course_name = soup_course.select_one(selector=\"h1.cd-header__title\").text.replace(f' {replace_word}','')\n",
    "        course_name = re.sub('[^A-Za-z0-9가-힣+]', ' ',course_name)\n",
    "        title_list.append(course_name)\n",
    "        \n",
    "# 카테고리\n",
    "def categorie_fun(course_url, categorie_list):\n",
    "    for course_ur in course_url:\n",
    "        soup_course = BeautifulSoup(requests.get(course_ur).text,'html.parser')\n",
    "        categories = soup_course.select(selector=\"span.cd-header__breadcrumb-el\")\n",
    "        categorie_list.append(list(map(text,categories)))\n",
    "        categorie_list.append([re.sub('[^A-Za-z0-9가-힣+]', ' ',i.strip()) for i in categories_map])\n",
    "        \n",
    "# 핵심 키워드\n",
    "def keyword_fun(course_url, keyword_list):\n",
    "    for course_ur in course_url:\n",
    "        soup_course = BeautifulSoup(requests.get(course_ur).text,'html.parser')\n",
    "        keyword = soup_course.select(selector=\"a.cd-header__tag\")\n",
    "        keyword_map = list(map(text,keyword))\n",
    "        keyword_list.append([re.sub('[^A-Za-z0-9가-힣+]', ' ',i.strip()) for i in keyword_map])\n",
    "        \n",
    "# 강의 소개\n",
    "def course_info_fun(course_url, course_info_list):\n",
    "    for course_ur in course_url:\n",
    "        soup_course = BeautifulSoup(requests.get(course_ur).text,'html.parser')\n",
    "        course = soup_course.select(selector=\"section.cd-body\")[0].text\n",
    "        course_info_list.append(re.sub('[^A-Za-z0-9가-힣+]', ' ', course))\n",
    "        \n",
    "# url-ID\n",
    "def course_id(soup_main_list, course_id_list):\n",
    "    for soup_main_html in soup_main_list:\n",
    "        course_ids = soup_main_html.select(\"div.card\")\n",
    "        for course_id in course_ids:\n",
    "            course_id_list.append(course_id[\"data-productid\"])\n",
    "# 리뷰\n",
    "def review(course_id_list, review_list):\n",
    "    for course_id in course_id_list:\n",
    "        url = f\"https://www.inflearn.com/api/v1/course/{course_id}/review?pageSize=10000&pageNumber=1\"\n",
    "        rq = requests.get(url, headers = head)\n",
    "        review_data = json.loads(rq.text)\n",
    "        rev_list = [re.sub('[^A-Za-z0-9가-힣+]', ' ',reviews['body']) for reviews in review_data['data']['items']]\n",
    "        review_list.append(\", \".join(rev_list).replace(',',' '))"
   ]
  },
  {
   "cell_type": "code",
   "execution_count": 7,
   "id": "baa59078",
   "metadata": {},
   "outputs": [],
   "source": [
    "# 개발,프로그래밍\n",
    "page_range = 54  # 강의 페이지 정하기 최대 53까지 있음\n",
    "main_url_page0 = [] # 페이지별 링크\n",
    "soup_main_list0 = [] # 페이지별 html\n",
    "course_url0 = [] # 강의별 링크\n",
    "\n",
    "uuid_list0 = []\n",
    "title_list0 = []\n",
    "categorie_list0 = []\n",
    "keyword_list0 = []\n",
    "course_info_list0 = []\n",
    "course_id_list0 = []\n",
    "review_list0 = []\n",
    "\n",
    "main_url_html(0, main_url_page0, soup_main_list0)  \n",
    "course_url_fun(main_url_page0, course_url0)\n",
    "\n",
    "uuid_fun(course_url0, uuid_list0)\n",
    "course_fun(course_url0, title_list0)\n",
    "categorie_fun(course_url0, categorie_list0)\n",
    "keyword_fun(course_url0, keyword_list0)\n",
    "course_info_fun(course_url0, course_info_list0)\n",
    "\n",
    "course_id(soup_main_list0, course_id_list0)\n",
    "review(course_id_list0, review_list0)"
   ]
  },
  {
   "cell_type": "code",
   "execution_count": null,
   "id": "1dc7269a",
   "metadata": {},
   "outputs": [],
   "source": [
    "# 리스트 풀기\n",
    "categorie_list00 = []\n",
    "for i in categorie_list0:\n",
    "    categorie_list00.append(\" / \".join(i))\n",
    "    \n",
    "keyword_list00 = []\n",
    "for i in keyword_list0:\n",
    "    keyword_list00.append(\" / \".join(i))"
   ]
  },
  {
   "cell_type": "code",
   "execution_count": null,
   "id": "1deacd9c",
   "metadata": {},
   "outputs": [],
   "source": [
    "# 보안, 네트워크\n",
    "page_range = 10  # 강의 페이지 정하기 최대 9까지 있음\n",
    "main_url_page1 = [] # 페이지별 링크\n",
    "soup_main_list1 = [] # 페이지별 html\n",
    "course_url1 = [] # 강의별 링크\n",
    "\n",
    "uuid_list1 = []\n",
    "title_list1 = []\n",
    "categorie_list1 = []\n",
    "keyword_list1 = []\n",
    "course_info_list1 = []\n",
    "course_id_list1 = []\n",
    "review_list1 = []\n",
    " \n",
    "main_url_html(1, main_url_page1, soup_main_list1)\n",
    "course_url_fun(main_url_page1, course_url1)\n",
    "\n",
    "uuid_fun(course_url1, uuid_list1)\n",
    "course_fun(course_url1, title_list1)\n",
    "categorie_fun(course_url1, categorie_list1)\n",
    "keyword_fun(course_url1, keyword_list1)\n",
    "course_info_fun(course_url1, course_info_list1)\n",
    "\n",
    "course_id(soup_main_list1, course_id_list1)\n",
    "review(course_id_list1, review_list1)"
   ]
  },
  {
   "cell_type": "code",
   "execution_count": null,
   "id": "312af6c6",
   "metadata": {},
   "outputs": [],
   "source": [
    "categorie_list11 = []\n",
    "for i in categorie_list1:\n",
    "    categorie_list11.append(\" / \".join(i))\n",
    "    \n",
    "keyword_list11 = []\n",
    "for i in keyword_list1:\n",
    "    keyword_list11.append(\" / \".join(i))"
   ]
  },
  {
   "cell_type": "code",
   "execution_count": null,
   "id": "0fa50569",
   "metadata": {},
   "outputs": [],
   "source": [
    "# 데이터 사이언스\n",
    "page_range = 15  # 강의 페이지 정하기 최대 14까지 있음\n",
    "main_url_page2 = [] # 페이지별 링크\n",
    "soup_main_list2 = [] # 페이지별 html\n",
    "course_url2 = [] # 강의별 링크\n",
    "\n",
    "uuid_list2 = []\n",
    "title_list2 = []\n",
    "categorie_list2 = []\n",
    "keyword_list2 = []\n",
    "course_info_list2 = []\n",
    "course_id_list2 = []\n",
    "review_list2 = []\n",
    "\n",
    "main_url_html(2, main_url_page2, soup_main_list2)\n",
    "course_url_fun(main_url_page2, course_url2)\n",
    "\n",
    "uuid_fun(course_url2, uuid_list2)\n",
    "course_fun(course_url2, title_list2)\n",
    "categorie_fun(course_url2, categorie_list2)\n",
    "keyword_fun(course_url2, keyword_list2)\n",
    "course_info_fun(course_url2, course_info_list2)\n",
    "\n",
    "course_id(soup_main_list2, course_id_list2)\n",
    "review(course_id_list2, review_list2)"
   ]
  },
  {
   "cell_type": "code",
   "execution_count": null,
   "id": "cfd2b31b",
   "metadata": {},
   "outputs": [],
   "source": [
    "categorie_list22 = []\n",
    "for i in categorie_list2:\n",
    "    categorie_list22.append(\" / \".join(i))\n",
    "    \n",
    "keyword_list22 = []\n",
    "for i in keyword_list2:\n",
    "    keyword_list22.append(\" / \".join(i))"
   ]
  },
  {
   "cell_type": "code",
   "execution_count": null,
   "id": "d6cc0807",
   "metadata": {},
   "outputs": [],
   "source": [
    "# 게임 개발\n",
    "page_range = 7  # 강의 페이지 정하기 최대 6까지 있음\n",
    "main_url_page3 = [] # 페이지별 링크\n",
    "soup_main_list3 = [] # 페이지별 html\n",
    "course_url3 = [] # 강의별 링크\n",
    "\n",
    "uuid_list3 = []\n",
    "title_list3 = []\n",
    "categorie_list3 = []\n",
    "keyword_list3 = []\n",
    "course_info_list3 = []\n",
    "course_id_list3 = []\n",
    "review_list3 = []\n",
    "\n",
    "main_url_html(3, main_url_page3, soup_main_list3)\n",
    "course_url_fun(main_url_page3, course_url3)\n",
    "\n",
    "uuid_fun(course_url3, uuid_list3)\n",
    "course_fun(course_url3, title_list3)\n",
    "categorie_fun(course_url3, categorie_list3)\n",
    "keyword_fun(course_url3, keyword_list3)\n",
    "course_info_fun(course_url3, course_info_list3)\n",
    "\n",
    "course_id(soup_main_list3, course_id_list3)\n",
    "review(course_id_list3, review_list3)"
   ]
  },
  {
   "cell_type": "code",
   "execution_count": null,
   "id": "aebc1a59",
   "metadata": {},
   "outputs": [],
   "source": [
    "categorie_list33 = []\n",
    "for i in categorie_list3:\n",
    "    categorie_list33.append(\" / \".join(i))\n",
    "    \n",
    "keyword_list33 = []\n",
    "for i in keyword_list3:\n",
    "    keyword_list33.append(\" / \".join(i))"
   ]
  },
  {
   "cell_type": "code",
   "execution_count": null,
   "id": "950277a5",
   "metadata": {},
   "outputs": [],
   "source": [
    "# html base64로 암호화\n",
    "soup_main_list00 = []\n",
    "\n",
    "for soup_main in soup_main_list0:\n",
    "    soup_main_list00.append([base64.b64encode(str(soup_main).encode())])"
   ]
  },
  {
   "cell_type": "code",
   "execution_count": null,
   "id": "3b6f06c5",
   "metadata": {},
   "outputs": [],
   "source": [
    "soup_main_list11 = []\n",
    "\n",
    "for soup_main in soup_main_list1:\n",
    "    soup_main_list11.append([base64.b64encode(str(soup_main).encode())])"
   ]
  },
  {
   "cell_type": "code",
   "execution_count": null,
   "id": "32f5bb79",
   "metadata": {},
   "outputs": [],
   "source": [
    "soup_main_list22 = []\n",
    "\n",
    "for soup_main in soup_main_list2:\n",
    "    soup_main_list22.append([base64.b64encode(str(soup_main).encode())])"
   ]
  },
  {
   "cell_type": "code",
   "execution_count": null,
   "id": "9152ff90",
   "metadata": {},
   "outputs": [],
   "source": [
    "soup_main_list33 = []\n",
    "\n",
    "for soup_main in soup_main_list3:\n",
    "    soup_main_list33.append([base64.b64encode(str(soup_main).encode())])"
   ]
  },
  {
   "cell_type": "markdown",
   "id": "96ef4211",
   "metadata": {},
   "source": [
    "### 2. 2순위 데이터"
   ]
  },
  {
   "cell_type": "code",
   "execution_count": null,
   "id": "c067ebb2",
   "metadata": {},
   "outputs": [],
   "source": [
    "# 평점, 수강생수, 강사명, 소요시간, 난이도, 가격\n",
    "\n",
    "def grade(course_url, grade_list):\n",
    "    for course_ur in course_url:\n",
    "        soup_course = BeautifulSoup(requests.get(course_ur).text,'html.parser')\n",
    "        if soup_course.select(selector=\"span.cd-header__info--star strong\"):\n",
    "            grade = soup_course.select(selector=\"span.cd-header__info--star strong\")[0].text\n",
    "            grade_list.append(grade.replace('(','').replace(')',''))\n",
    "        else:\n",
    "            grade_list.append(0)\n",
    "        \n",
    "def stu_num(course_url, stu_numl_list):\n",
    "    for course_ur in course_url:\n",
    "        soup_course = BeautifulSoup(requests.get(course_ur).text,'html.parser')\n",
    "        if soup_course.select(selector=\"div.cd-header__info-cover\"):\n",
    "            stu_num = soup_course.select(selector=\"div.cd-header__info-cover strong\")[-1].text.replace('명','')\n",
    "            stu_numl_list.append(stu_num)\n",
    "        else:\n",
    "            stu_num = soup_course.select(selector=\"div.cd-header__student_cnt strong\")[0].text.replace('명','')\n",
    "            stu_numl_list.append(stu_num)\n",
    "        \n",
    "def teacher(course_url, teacher_list):\n",
    "    for course_ur in course_url:\n",
    "        soup_course = BeautifulSoup(requests.get(course_ur).text,'html.parser')\n",
    "        teacher = soup_course.select(selector=\"a.cd-header__instructors--main\")[0].text.strip()\n",
    "        teacher_list.append(re.sub('[^A-Za-z0-9가-힣+]', ' ',teacher))\n",
    "        \n",
    "def playtime(course_url, time_list):\n",
    "    for course_ur in course_url:\n",
    "        try:\n",
    "            soup_course = BeautifulSoup(requests.get(course_ur).text,'html.parser')\n",
    "            time = soup_course.select(selector=\"div.cd-floating__info-row\")[1].text.split('(')[1].split(')')[0]\n",
    "            time_list.append(float(time.replace('시간 ','.').replace('분','')))\n",
    "        except:\n",
    "            time_list.append(0)\n",
    "        \n",
    "def lebel(course_url, lebel_list):\n",
    "    for course_ur in course_url:\n",
    "        soup_course = BeautifulSoup(requests.get(course_ur).text,'html.parser')\n",
    "        for i_gray in soup_course.select(selector=\"div.cd-floating__info-row\")[4].select('div.cd-floating__info--gray'):\n",
    "            i_gray.decompose()\n",
    "        if soup_course.select(selector=\"div.cd-floating__info-row\")[4].select(\"div.cd-floating__info-tooltip\"):\n",
    "            for i_lebel in soup_course.select(selector=\"div.cd-floating__info-row\")[4].select(\"div.cd-floating__info-tooltip\"):\n",
    "                if \"입문\" in i_lebel.text:\n",
    "                    lebel_list.append(1)\n",
    "                elif \"초급\" in i_lebel.text:\n",
    "                    lebel_list.append(2)\n",
    "                else:\n",
    "                    lebel_list.append(3)\n",
    "        else:\n",
    "            lebel_list.append(0)\n",
    "        \n",
    "def price(course_url, price_list):\n",
    "    for course_ur in course_url:\n",
    "        soup_course = BeautifulSoup(requests.get(course_ur).text,'html.parser')\n",
    "        if \"무료\" in soup_course.select(selector=\"div.cd-floating__card--top h4\")[0].text: # 무료\n",
    "            price_list.append(0)\n",
    "        elif soup_course.select(selector=\"div.cd-floating__price--top\"): # 할부\n",
    "            price = soup_course.select(selector=\"div.cd-floating__price--top\")[0].select(\"span.cd-price__pay-price\")[0].text.replace(\"원\",'').replace(',','')\n",
    "            price = int(price)\n",
    "            price_list.append(price)\n",
    "        elif soup_course.select(selector=\"h4.cd-price__discount-rate\"): # 할인\n",
    "            price = soup_course.select(selector=\"div.cd-floating__card--top h4\")[1].text.replace(\"원\",'').replace(',','')\n",
    "            price = int(price)\n",
    "            price_list.append(price)\n",
    "        else:\n",
    "            price = soup_course.select(selector=\"div.cd-floating__card--top h4\")[0].text.replace(\"원\",'').replace(',','')\n",
    "            price = int(price)\n",
    "            price_list.append(price)"
   ]
  },
  {
   "cell_type": "code",
   "execution_count": null,
   "id": "3c1d55c0",
   "metadata": {},
   "outputs": [],
   "source": [
    "grade_list0 = []\n",
    "stu_numl_list0 = []\n",
    "teacher_list0 = []\n",
    "time_list0 = []\n",
    "lebel_list0 = []\n",
    "price_list0 = []\n",
    "\n",
    "grade(course_url0, grade_list0)\n",
    "stu_num(course_url0, stu_numl_list0)\n",
    "teacher(course_url0, teacher_list0)\n",
    "playtime(course_url0, time_list0)\n",
    "lebel(course_url0, lebel_list0)\n",
    "price(course_url0, price_list0)"
   ]
  },
  {
   "cell_type": "code",
   "execution_count": null,
   "id": "19c31a37",
   "metadata": {},
   "outputs": [],
   "source": [
    "grade_list1 = []\n",
    "stu_numl_list1 = []\n",
    "teacher_list1 = []\n",
    "time_list1 = []\n",
    "lebel_list1 = []\n",
    "price_list1 = []\n",
    "\n",
    "grade(course_url1, grade_list1)\n",
    "stu_num(course_url1, stu_numl_list1)\n",
    "teacher(course_url1, teacher_list1)\n",
    "time(course_url1, time_list1)\n",
    "lebel(course_url1, lebel_list1)\n",
    "price(course_url1, price_list1)"
   ]
  },
  {
   "cell_type": "code",
   "execution_count": null,
   "id": "a3359296",
   "metadata": {},
   "outputs": [],
   "source": [
    "grade_list2 = []\n",
    "stu_numl_list2 = []\n",
    "teacher_list2 = []\n",
    "time_list2 = []\n",
    "lebel_list2 = []\n",
    "price_list2 = []\n",
    "\n",
    "grade(course_url2, grade_list2)\n",
    "stu_num(course_url2, stu_numl_list2)\n",
    "teacher(course_url2, teacher_list2)\n",
    "time(course_url2, time_list2)\n",
    "lebel(course_url2, lebel_list2)\n",
    "price(course_url2, price_list2)"
   ]
  },
  {
   "cell_type": "code",
   "execution_count": null,
   "id": "28c8a8dd",
   "metadata": {},
   "outputs": [],
   "source": [
    "grade_list3 = []\n",
    "stu_numl_list3 = []\n",
    "teacher_list3 = []\n",
    "time_list3 = []\n",
    "lebel_list3 = []\n",
    "price_list3 = []\n",
    "\n",
    "grade(course_url3, grade_list3)\n",
    "stu_num(course_url3, stu_numl_list3)\n",
    "teacher(course_url3, teacher_list3)\n",
    "time(course_url3, time_list3)\n",
    "lebel(course_url3, lebel_list3)\n",
    "price(course_url3, price_list3)"
   ]
  },
  {
   "cell_type": "code",
   "execution_count": null,
   "id": "bb95e079",
   "metadata": {},
   "outputs": [],
   "source": [
    "pair_list0 = []\n",
    "[pair_list0.append(list(pair)) for pair in zip(uuid_list0,course_url0, title_list0, categorie_list00, keyword_list00, course_info_list0, original_data00, course_id_list0, review_list0)]\n",
    "pair_list1 = []\n",
    "[pair_list1.append(list(pair)) for pair in zip(uuid_list1,course_url1, title_list1, categorie_list11, keyword_list11, course_info_list1, original_data11, course_id_list1, review_list1)]\n",
    "pair_list2 = []\n",
    "[pair_list2.append(list(pair)) for pair in zip(uuid_list2,course_url2, title_list2, categorie_list22, keyword_list22, course_info_list2, original_data22, course_id_list2, review_list2)]\n",
    "pair_list3 = []\n",
    "[pair_list3.append(list(pair)) for pair in zip(uuid_list3,course_url3, title_list3, categorie_list33, keyword_list33, course_info_list3, original_data33, course_id_list3, review_list3)]"
   ]
  },
  {
   "cell_type": "code",
   "execution_count": null,
   "id": "731307ca",
   "metadata": {},
   "outputs": [],
   "source": [
    "pair_list = pair_list0+pair_list1+pair_list2+pair_list3"
   ]
  },
  {
   "cell_type": "code",
   "execution_count": null,
   "id": "4be831be",
   "metadata": {},
   "outputs": [],
   "source": [
    "pair_list_columns = ['uuid', 'url', 'course_data', 'categorie_data', 'keyword_data', 'course_info_data', 'ori_data', 'course_id', 'review']\n",
    "\n",
    "df_pair_list= pd.DataFrame(pair_list, columns = pair_list_columns)"
   ]
  },
  {
   "cell_type": "markdown",
   "id": "e82d9fb2",
   "metadata": {},
   "source": [
    "# DB"
   ]
  },
  {
   "cell_type": "code",
   "execution_count": 1,
   "id": "c3c17997",
   "metadata": {},
   "outputs": [],
   "source": [
    "# 테이블 생성\n",
    "import pymysql\n",
    "# not null primary key,\n",
    "db = pymysql.connect(host='localhost', port=3306, user='root', passwd=passwd, db='mywork', charset='utf8')\n",
    "cursor = db.cursor()\n",
    "sql = \"\"\"\n",
    "    create table chat_bot_001 (\n",
    "        uuid varchar(100) not null primary key, \n",
    "        url varchar(100),\n",
    "        course_data varchar(300),\n",
    "        categorie_data varchar(300),\n",
    "        keyword_data varchar(300),\n",
    "        course_info_data text,\n",
    "        course_id int(10),\n",
    "        review_data longtext,\n",
    "        grade float(24),\n",
    "        stu_num int(10),\n",
    "        teacher varchar(50),\n",
    "        playtime_data float(24),\n",
    "        level_data int(10),\n",
    "        price_data int(10),\n",
    "        course varchar(300) ,\n",
    "        categorie varchar(300),\n",
    "        keyword varchar(300),\n",
    "        course_info text,\n",
    "        review longtext,\n",
    "        dibs_num int(10),\n",
    "        teacher_info text,\n",
    "        teacher_info_data text        \n",
    "    );\n",
    "\"\"\"\n",
    "cursor.execute(sql)\n",
    "db.commit()\n",
    "db.close()"
   ]
  },
  {
   "cell_type": "code",
   "execution_count": null,
   "id": "c1146189",
   "metadata": {},
   "outputs": [],
   "source": [
    "# 중복있는 df : chat_bot_001\n",
    "db = pymysql.connect(host='localhost', port=3306, user='root', passwd=passwd, db='mywork', charset='utf8')\n",
    "cursor = db.cursor()\n",
    "#14개 컬럼\n",
    "sql = \"\"\"INSERT INTO chat_bot_001 (uuid, url, course_data, categorie_data,keyword_data,course_info_data,course_id,review_data,grade,stu_num,teacher,playtime_data,level_data, price_data) VALUES(%s,%s,%s,%s,%s,%s,%s,%s,%s,%s,%s,%s,%s,%s);\"\"\"\n",
    "\n",
    "for i, row in df_pair_list.iterrows():\n",
    "    cursor.execute(sql, tuple(row))\n",
    "    db.commit()"
   ]
  },
  {
   "cell_type": "markdown",
   "id": "ab425900",
   "metadata": {},
   "source": [
    "# 형태소 분석기"
   ]
  },
  {
   "cell_type": "code",
   "execution_count": null,
   "id": "34326371",
   "metadata": {},
   "outputs": [],
   "source": [
    "komoran = Komoran(userdic='./total_set.csv')"
   ]
  },
  {
   "cell_type": "code",
   "execution_count": null,
   "id": "9349cd8c",
   "metadata": {},
   "outputs": [],
   "source": [
    "df2 = df_pair_list.copy()"
   ]
  },
  {
   "cell_type": "code",
   "execution_count": null,
   "id": "3786be8d",
   "metadata": {},
   "outputs": [],
   "source": [
    "df2['uuid'].nunique()\n",
    "df3 = df2.drop_duplicates(subset = [\"uuid\"])"
   ]
  },
  {
   "cell_type": "code",
   "execution_count": null,
   "id": "9f987908",
   "metadata": {},
   "outputs": [],
   "source": [
    "word_list = []\n",
    "with open('total_set.csv', 'r', encoding='UTF-8') as f:\n",
    "        lines = f.readlines()\n",
    "        for line in lines:\n",
    "                 word_list.append(line.rstrip())\n",
    "word_list_lower = [i.lower() for i in word_list]"
   ]
  },
  {
   "cell_type": "code",
   "execution_count": null,
   "id": "29704e4c",
   "metadata": {},
   "outputs": [],
   "source": [
    "# 소문자로 변환 후 비교\n",
    "data_course_lower = []\n",
    "for morphs in df3['course_data'].apply(komoran.morphs):\n",
    "    using_word = []\n",
    "    using_word_join = []\n",
    "    for word in morphs:\n",
    "        if word.lower() in word_list_lower:\n",
    "            using_word.append(word)\n",
    "    using_word_join.append(', '.join(using_word))\n",
    "    data_course_lower.append(using_word_join)\n",
    "\n",
    "data_review_lower = []\n",
    "for morphs in df3['review_data'].apply(komoran.morphs):\n",
    "    using_word = []\n",
    "    using_word_join = []\n",
    "    for word in morphs:\n",
    "        if word.lower() in word_list_lower:\n",
    "            using_word.append(word)\n",
    "    using_word_join.append(', '.join(using_word))\n",
    "    data_review_lower.append(using_word_join)\n",
    "\n",
    "data_categorie_lower = []\n",
    "for morphs in df3['categorie_data'].apply(komoran.morphs):\n",
    "    using_word = []\n",
    "    using_word_join = []\n",
    "    for word in morphs:\n",
    "        if word.lower() in word_list_lower:\n",
    "            using_word.append(word)\n",
    "    using_word_join.append(', '.join(using_word))\n",
    "    data_categorie_lower.append(using_word_join)\n",
    "    \n",
    "data_keyword_lower = []\n",
    "for morphs in df3['keyword_data'].apply(komoran.morphs):\n",
    "    using_word = []\n",
    "    using_word_join = []\n",
    "    for word in morphs:\n",
    "        if word.lower() in word_list_lower:\n",
    "            using_word.append(word)\n",
    "    using_word_join.append(', '.join(using_word))\n",
    "    data_keyword_lower.append(using_word_join)\n",
    "\n",
    "data_info_lower = []\n",
    "for morphs in df3['course_info_data'].apply(komoran.morphs):\n",
    "    using_word = []\n",
    "    using_word_join = []\n",
    "    for word in morphs:\n",
    "        if word.lower() in word_list_lower:\n",
    "            using_word.append(word)\n",
    "    using_word_join.append(', '.join(using_word))\n",
    "    data_info_lower.append(using_word_join)"
   ]
  },
  {
   "cell_type": "code",
   "execution_count": null,
   "id": "ba4ad037",
   "metadata": {},
   "outputs": [],
   "source": [
    "data_course_df= pd.DataFrame(data_course_lower, columns =['data_course_df'])\n",
    "data_review_df= pd.DataFrame(data_review_lower, columns =['data_review_df'])\n",
    "data_categorie_df= pd.DataFrame(data_categorie_lower, columns =['data_categorie_df'])\n",
    "data_keyword_df= pd.DataFrame(data_keyword_lower, columns =['data_keyword_df'])\n",
    "data_info_df= pd.DataFrame(data_info_lower, columns =['data_info_df'])"
   ]
  },
  {
   "cell_type": "code",
   "execution_count": null,
   "id": "647ba771",
   "metadata": {},
   "outputs": [],
   "source": [
    "concat_pd = pd.concat([data_course_df,data_review_df],axis=1)"
   ]
  },
  {
   "cell_type": "code",
   "execution_count": null,
   "id": "152333c7",
   "metadata": {},
   "outputs": [],
   "source": [
    "concat_pd1 = concat_pd.copy()"
   ]
  },
  {
   "cell_type": "code",
   "execution_count": null,
   "id": "a1c67d5d",
   "metadata": {},
   "outputs": [],
   "source": [
    "concat_pd1['data_categorie_df'] =data_categorie_df\n",
    "concat_pd1['data_keyword_df']=data_keyword_df\n",
    "concat_pd1['data_info_df']=data_info_df"
   ]
  },
  {
   "cell_type": "code",
   "execution_count": null,
   "id": "8aef6516",
   "metadata": {},
   "outputs": [],
   "source": [
    "df3.reset_index(inplace=True)"
   ]
  },
  {
   "cell_type": "code",
   "execution_count": null,
   "id": "02143d66",
   "metadata": {},
   "outputs": [],
   "source": [
    "concat_1581=pd.concat([df3,concat_pd1],axis=1)\n",
    "concat_1581 = concat_1581.replace({np.nan: 0})\n",
    "concat_1581= concat_1581.drop(['index'],axis=1)"
   ]
  },
  {
   "cell_type": "code",
   "execution_count": null,
   "id": "f91db131",
   "metadata": {},
   "outputs": [],
   "source": [
    "# dataframe > sql삽입\n",
    "db = pymysql.connect(host='localhost', port=3306, user='root', passwd=passwd, db='mywork', charset='utf8')\n",
    "cursor = db.cursor()\n",
    "# 19개 컬럼\n",
    "sql = \"\"\"INSERT INTO chat_bot_002 (uuid, url, course_data, categorie_data,keyword_data,course_info_data,course_id,review_data,grade,stu_num,teacher,playtime_data,level_data, price_data,course,review,categorie,keyword,course_info) \n",
    "VALUES(%s,%s,%s,%s,%s,%s,%s,%s,%s,%s,%s,%s,%s,%s,%s,%s,%s,%s,%s);\"\"\"\n",
    "\n",
    "for i, row in concat_1581.iterrows():\n",
    "    cursor.execute(sql, tuple(row))\n",
    "  #  print(tuple(row))\n",
    "    db.commit()"
   ]
  },
  {
   "cell_type": "markdown",
   "id": "c374ce3c",
   "metadata": {},
   "source": [
    "# 3순위 데이터 작업"
   ]
  },
  {
   "cell_type": "markdown",
   "id": "30b5a471",
   "metadata": {},
   "source": [
    "### DB에서 html꺼내기"
   ]
  },
  {
   "cell_type": "code",
   "execution_count": 2,
   "id": "6ed1b11e",
   "metadata": {},
   "outputs": [],
   "source": [
    "# main url 4개의 각 페이지별 html을 파싱 후 따로 db테이블에 저장해 둠\n",
    "# 조회 - main html\n",
    "main_html = []\n",
    "\n",
    "db = pymysql.connect(host='localhost', port=3306, user='root', passwd=passwd, db='mywork', charset='utf8')\n",
    "cursor = db.cursor()\n",
    "\n",
    "sql = \"SELECT main_html FROM chat_bot_main_html\"\n",
    "cursor.execute(sql)\n",
    "result = cursor.fetchall()\n",
    "for datas in result:\n",
    "    main_html.append(datas)\n",
    "    \n",
    "cursor.close()\n",
    "db.close()"
   ]
  },
  {
   "cell_type": "code",
   "execution_count": 3,
   "id": "86fa7dc0",
   "metadata": {},
   "outputs": [],
   "source": [
    "main_ht = []\n",
    "for html_tuple in main_html:\n",
    "    for i in html_tuple:\n",
    "        str_bytes= base64.b64decode(i)\n",
    "        init_str = str_bytes.decode('utf-8')\n",
    "        main_ht.append(init_str)"
   ]
  },
  {
   "cell_type": "code",
   "execution_count": 4,
   "id": "bb410ef8",
   "metadata": {},
   "outputs": [
    {
     "data": {
      "text/plain": [
       "82"
      ]
     },
     "execution_count": 4,
     "metadata": {},
     "output_type": "execute_result"
    }
   ],
   "source": [
    "len(main_ht)"
   ]
  },
  {
   "cell_type": "code",
   "execution_count": 5,
   "id": "e36272ac",
   "metadata": {},
   "outputs": [],
   "source": [
    "# 메인 html (html = soup_main_list )\n",
    "def main_url_html(main_ht, soup_main_list): \n",
    "    nums = 0\n",
    "    for i in main_ht:\n",
    "        nums  += 1\n",
    "        if nums%5 ==0:\n",
    "            print(nums)\n",
    "        soup_main = BeautifulSoup(i,'html.parser')\n",
    "        soup_main_list.append(soup_main) # 메인페이지 html"
   ]
  },
  {
   "cell_type": "code",
   "execution_count": 8,
   "id": "de26ddd3",
   "metadata": {},
   "outputs": [
    {
     "data": {
      "text/plain": [
       "82"
      ]
     },
     "execution_count": 8,
     "metadata": {},
     "output_type": "execute_result"
    }
   ],
   "source": [
    "soup_main_list = []\n",
    "main_url_html(main_ht, soup_main_list)\n",
    "\n",
    "len(soup_main_list)"
   ]
  },
  {
   "cell_type": "code",
   "execution_count": null,
   "id": "c9d3b5b1",
   "metadata": {},
   "outputs": [],
   "source": [
    "def text(x):\n",
    "    return x.text\n",
    "\n",
    "# 강의별 링크\n",
    "def course_url_fun(soup_main_list, course_url):\n",
    "    nums = 0\n",
    "    for soup_main_html in soup_main_list: \n",
    "        nums  += 1\n",
    "        if nums%2 ==0:\n",
    "            print(nums)\n",
    "        soup_main = soup_main_html.findAll(\"a\", class_='course_card_front e_course_click') # 각 강의들\n",
    "        for y in soup_main:\n",
    "            course_url.append('https://www.inflearn.com' + y['href'])\n",
    "# uuid            \n",
    "def uuid_fun(course_url, uuid_list):\n",
    "    nums = 0\n",
    "    for url_s in course_url:\n",
    "        nums  += 1\n",
    "        if nums%5 ==0:\n",
    "            print(nums)\n",
    "        uuid = hashlib.sha256(url_s.encode()) \n",
    "        uuid_list.append(uuid.hexdigest())"
   ]
  },
  {
   "cell_type": "code",
   "execution_count": 12,
   "id": "e607975a",
   "metadata": {},
   "outputs": [
    {
     "data": {
      "text/plain": [
       "1931"
      ]
     },
     "execution_count": 12,
     "metadata": {},
     "output_type": "execute_result"
    }
   ],
   "source": [
    "course_url = [] \n",
    "course_url_fun(soup_main_list, course_url)\n",
    "\n",
    "len(course_url)"
   ]
  },
  {
   "cell_type": "code",
   "execution_count": null,
   "id": "f1775643",
   "metadata": {},
   "outputs": [],
   "source": [
    "uuid_list = []\n",
    "uuid_fun(course_url, uuid_list)"
   ]
  },
  {
   "cell_type": "code",
   "execution_count": 28,
   "id": "bbaf73d2",
   "metadata": {
    "scrolled": false
   },
   "outputs": [],
   "source": [
    "# 찜 개수\n",
    "def dibs_num(course_url, dibs_num_list):\n",
    "    nums = 0\n",
    "    for course_ur in course_url:\n",
    "        nums  += 1\n",
    "        if nums%5 ==0:\n",
    "            print(nums)\n",
    "        soup_course = BeautifulSoup(requests.get(course_ur).text,'html.parser')\n",
    "        if soup_course.select_one(selector=\"span.cd-floating__sub-button--cnt\"):\n",
    "            dibs_num = soup_course.select_one(selector=\"span.cd-floating__sub-button--cnt\").text.replace('K','000').replace('.','')\n",
    "            dibs_num_list.append(dibs_num)\n",
    "        else:\n",
    "            dibs_num_list.append(0)\n",
    "            \n",
    "# 강사(선생님) 소개            \n",
    "def teacher_info(course_url, teacher_info_list):\n",
    "    nums = 0\n",
    "    for course_ur in course_url:\n",
    "        nums  += 1\n",
    "        if nums%5 ==0:\n",
    "            print(nums)\n",
    "        soup_course = BeautifulSoup(requests.get(course_ur).text,'html.parser')\n",
    "        teacher_info = soup_course.select_one(selector=\"div.cd-instructors__cover\").text.replace('더 읽기','').strip()\n",
    "        teacher_info_list.append(teacher_info)"
   ]
  },
  {
   "cell_type": "code",
   "execution_count": 30,
   "id": "6c8a68fd",
   "metadata": {},
   "outputs": [
    {
     "data": {
      "text/plain": [
       "1931"
      ]
     },
     "execution_count": 30,
     "metadata": {},
     "output_type": "execute_result"
    }
   ],
   "source": [
    "dibs_num_list = []\n",
    "dibs_num(course_url, dibs_num_list)\n",
    "\n",
    "len(dibs_num_list)"
   ]
  },
  {
   "cell_type": "code",
   "execution_count": 43,
   "id": "3b91ef33",
   "metadata": {},
   "outputs": [
    {
     "data": {
      "text/plain": [
       "1931"
      ]
     },
     "execution_count": 43,
     "metadata": {},
     "output_type": "execute_result"
    }
   ],
   "source": [
    "teacher_info_list = []\n",
    "teacher_info(course_url, teacher_info_list)\n",
    "\n",
    "len(teacher_info_list)"
   ]
  },
  {
   "cell_type": "code",
   "execution_count": 103,
   "id": "dc27fca7",
   "metadata": {},
   "outputs": [],
   "source": [
    "# 테이블 생성\n",
    "db = pymysql.connect(host='localhost', port=3306, user='root', passwd=passwd, db='mywork', charset='utf8')\n",
    "cursor = db.cursor()\n",
    "sql = \"\"\"\n",
    "    create table chat_bot_004 (\n",
    "        uuid varchar(100) not null primary key, \n",
    "        url varchar(100),\n",
    "        course_data varchar(300),\n",
    "        categorie_data varchar(300),\n",
    "        keyword_data varchar(300),\n",
    "        course_info_data text,\n",
    "        course_id int(10),\n",
    "        review_data longtext,\n",
    "        grade float(24),\n",
    "        stu_num int(10),\n",
    "        teacher varchar(50),\n",
    "        playtime_data float(24),\n",
    "        level_data int(10),\n",
    "        price_data int(10),\n",
    "        course varchar(300) ,\n",
    "        categorie varchar(300),\n",
    "        keyword varchar(300),\n",
    "        course_info text,\n",
    "        review longtext,\n",
    "        dibs_num int(10),\n",
    "        teacher_info text,\n",
    "        teacher_info_data text        \n",
    "    );\n",
    "\"\"\"\n",
    "cursor.execute(sql)\n",
    "db.commit()\n",
    "db.close()"
   ]
  },
  {
   "cell_type": "code",
   "execution_count": 53,
   "id": "40925c06",
   "metadata": {},
   "outputs": [],
   "source": [
    "# 조회 - chat_bot_002\n",
    "import pymysql\n",
    "chat_bot_002 = []\n",
    "\n",
    "db = pymysql.connect(host='localhost', port=3306, user='root', passwd=passwd, db='mywork', charset='utf8')\n",
    "cursor = db.cursor()\n",
    "\n",
    "sql = \"SELECT * FROM chat_bot_002\"\n",
    "cursor.execute(sql)\n",
    "result = cursor.fetchall()\n",
    "for datas in result:\n",
    "    chat_bot_002.append(datas)\n",
    "    \n",
    "cursor.close()\n",
    "db.close()"
   ]
  },
  {
   "cell_type": "code",
   "execution_count": 56,
   "id": "188b1293",
   "metadata": {},
   "outputs": [],
   "source": [
    "df_002= pd.DataFrame(chat_bot_002)\n",
    "df_002.drop([19,20],axis=1,inplace=True)"
   ]
  },
  {
   "cell_type": "code",
   "execution_count": 65,
   "id": "20cc04d9",
   "metadata": {},
   "outputs": [
    {
     "name": "stdout",
     "output_type": "stream",
     "text": [
      "<class 'pandas.core.frame.DataFrame'>\n",
      "RangeIndex: 1581 entries, 0 to 1580\n",
      "Data columns (total 19 columns):\n",
      " #   Column            Non-Null Count  Dtype  \n",
      "---  ------            --------------  -----  \n",
      " 0   uuid              1581 non-null   object \n",
      " 1   url               1581 non-null   object \n",
      " 2   course_data       1581 non-null   object \n",
      " 3   categorie_data    1581 non-null   object \n",
      " 4   keyword_data      1581 non-null   object \n",
      " 5   course_info_data  1581 non-null   object \n",
      " 6   course_id         1581 non-null   int64  \n",
      " 7   review_data       1581 non-null   object \n",
      " 8   grade             1581 non-null   float64\n",
      " 9   stu_num           1581 non-null   int64  \n",
      " 10  teacher           1581 non-null   object \n",
      " 11  time              1581 non-null   float64\n",
      " 12  level             1581 non-null   int64  \n",
      " 13  price             1581 non-null   int64  \n",
      " 14  course            1581 non-null   object \n",
      " 15  categorie         1581 non-null   object \n",
      " 16  keyword           1581 non-null   object \n",
      " 17  course_info       1581 non-null   object \n",
      " 18  review            1581 non-null   object \n",
      "dtypes: float64(2), int64(4), object(13)\n",
      "memory usage: 234.8+ KB\n"
     ]
    }
   ],
   "source": [
    "pair_list_columns = ['uuid', 'url', 'course_data', 'categorie_data', 'keyword_data', 'course_info_data', 'course_id', 'review_data','grade','stu_num','teacher','time','level','price','course', 'categorie', 'keyword', 'course_info', 'review']\n",
    "df_002.columns =pair_list_columns\n",
    "df_002.info()"
   ]
  },
  {
   "cell_type": "code",
   "execution_count": 45,
   "id": "e103d8b4",
   "metadata": {},
   "outputs": [],
   "source": [
    "pair_list = [list(pair) for pair in zip(uuid_list, dibs_num_list, teacher_info_list)]"
   ]
  },
  {
   "cell_type": "code",
   "execution_count": 48,
   "id": "00923f6e",
   "metadata": {
    "scrolled": true
   },
   "outputs": [],
   "source": [
    "pair_list_columns = ['uuid', 'dibs_num', 'teacher_info_data']\n",
    "df= pd.DataFrame(pair_list, columns = pair_list_columns)"
   ]
  },
  {
   "cell_type": "code",
   "execution_count": 51,
   "id": "e79486ad",
   "metadata": {},
   "outputs": [
    {
     "name": "stdout",
     "output_type": "stream",
     "text": [
      "<class 'pandas.core.frame.DataFrame'>\n",
      "Int64Index: 1581 entries, 0 to 1925\n",
      "Data columns (total 3 columns):\n",
      " #   Column             Non-Null Count  Dtype \n",
      "---  ------             --------------  ----- \n",
      " 0   uuid               1581 non-null   object\n",
      " 1   dibs_num           1581 non-null   object\n",
      " 2   teacher_info_data  1581 non-null   object\n",
      "dtypes: object(3)\n",
      "memory usage: 49.4+ KB\n"
     ]
    }
   ],
   "source": [
    "df2 = df.drop_duplicates(subset = [\"uuid\"])\n",
    "df2.info()"
   ]
  },
  {
   "cell_type": "code",
   "execution_count": 67,
   "id": "edaafa42",
   "metadata": {},
   "outputs": [],
   "source": [
    "df2.reset_index(inplace=True)\n",
    "df_002.reset_index(inplace=True)"
   ]
  },
  {
   "cell_type": "code",
   "execution_count": 69,
   "id": "c05f9676",
   "metadata": {},
   "outputs": [],
   "source": [
    "df3 = pd.merge(df_002, df2, on = 'uuid', how = 'outer')"
   ]
  },
  {
   "cell_type": "code",
   "execution_count": 74,
   "id": "aa0d3fac",
   "metadata": {},
   "outputs": [],
   "source": [
    "df3.drop(['index_x'],axis=1,inplace=True)\n",
    "df3.drop(['index_y'],axis=1,inplace=True)"
   ]
  },
  {
   "cell_type": "code",
   "execution_count": 78,
   "id": "f2b42682",
   "metadata": {},
   "outputs": [
    {
     "name": "stdout",
     "output_type": "stream",
     "text": [
      "<class 'pandas.core.frame.DataFrame'>\n",
      "Int64Index: 1581 entries, 0 to 1580\n",
      "Data columns (total 21 columns):\n",
      " #   Column             Non-Null Count  Dtype  \n",
      "---  ------             --------------  -----  \n",
      " 0   uuid               1581 non-null   object \n",
      " 1   url                1581 non-null   object \n",
      " 2   course_data        1581 non-null   object \n",
      " 3   categorie_data     1581 non-null   object \n",
      " 4   keyword_data       1581 non-null   object \n",
      " 5   course_info_data   1581 non-null   object \n",
      " 6   course_id          1581 non-null   int64  \n",
      " 7   review_data        1581 non-null   object \n",
      " 8   grade              1581 non-null   float64\n",
      " 9   stu_num            1581 non-null   int64  \n",
      " 10  teacher            1581 non-null   object \n",
      " 11  time               1581 non-null   float64\n",
      " 12  level              1581 non-null   int64  \n",
      " 13  price              1581 non-null   int64  \n",
      " 14  course             1581 non-null   object \n",
      " 15  categorie          1581 non-null   object \n",
      " 16  keyword            1581 non-null   object \n",
      " 17  course_info        1581 non-null   object \n",
      " 18  review             1581 non-null   object \n",
      " 19  dibs_num           1581 non-null   object \n",
      " 20  teacher_info_data  1581 non-null   object \n",
      "dtypes: float64(2), int64(4), object(15)\n",
      "memory usage: 271.7+ KB\n"
     ]
    }
   ],
   "source": [
    "df3.info()"
   ]
  },
  {
   "cell_type": "code",
   "execution_count": 81,
   "id": "52cfa24e",
   "metadata": {},
   "outputs": [],
   "source": [
    "komoran = Komoran(userdic='./total_set.csv')"
   ]
  },
  {
   "cell_type": "code",
   "execution_count": 82,
   "id": "0f1052c8",
   "metadata": {},
   "outputs": [],
   "source": [
    "df4 = df3.copy()"
   ]
  },
  {
   "cell_type": "code",
   "execution_count": 83,
   "id": "a7f019d1",
   "metadata": {},
   "outputs": [],
   "source": [
    "word_list = []\n",
    "with open('total_set.csv', 'r', encoding='UTF-8') as f:\n",
    "        lines = f.readlines()\n",
    "        for line in lines:\n",
    "                 word_list.append(line.rstrip())"
   ]
  },
  {
   "cell_type": "code",
   "execution_count": 84,
   "id": "c7c2577b",
   "metadata": {},
   "outputs": [],
   "source": [
    "word_list_lower = [i.lower() for i in word_list]"
   ]
  },
  {
   "cell_type": "code",
   "execution_count": 87,
   "id": "5b17befa",
   "metadata": {},
   "outputs": [],
   "source": [
    "df3['teacher_info_data'] = df3['teacher_info_data'].str.replace(pat=r'[^A-Za-z0-9가-힣+]', repl=r' ', regex=True) "
   ]
  },
  {
   "cell_type": "code",
   "execution_count": 90,
   "id": "eda5c5d7",
   "metadata": {},
   "outputs": [],
   "source": [
    "# 소문자로 변환 후 비교 word_list_lower\n",
    "data_teacher_info_lower = []\n",
    "for morphs in df3['teacher_info_data'].apply(komoran.morphs):\n",
    "    using_word = []\n",
    "    using_word_join = []\n",
    "    for word in morphs:\n",
    "        if word.lower() in word_list_lower:\n",
    "            using_word.append(word)\n",
    "    using_word_join.append(', '.join(using_word))\n",
    "    data_teacher_info_lower.append(using_word_join)"
   ]
  },
  {
   "cell_type": "code",
   "execution_count": 95,
   "id": "e900d9f3",
   "metadata": {},
   "outputs": [
    {
     "data": {
      "text/plain": [
       "1581"
      ]
     },
     "execution_count": 95,
     "metadata": {},
     "output_type": "execute_result"
    }
   ],
   "source": [
    "len(data_teacher_info_lower)"
   ]
  },
  {
   "cell_type": "code",
   "execution_count": 96,
   "id": "30de88b5",
   "metadata": {},
   "outputs": [],
   "source": [
    "data_teacher_info_df= pd.DataFrame(data_teacher_info_lower, columns =['data_teacher_info_df'])"
   ]
  },
  {
   "cell_type": "code",
   "execution_count": 99,
   "id": "e018b534",
   "metadata": {},
   "outputs": [],
   "source": [
    "concat_pd = pd.concat([df3,data_teacher_info_df],axis=1)"
   ]
  },
  {
   "cell_type": "code",
   "execution_count": 100,
   "id": "c6b58495",
   "metadata": {},
   "outputs": [
    {
     "name": "stdout",
     "output_type": "stream",
     "text": [
      "<class 'pandas.core.frame.DataFrame'>\n",
      "Int64Index: 1581 entries, 0 to 1580\n",
      "Data columns (total 22 columns):\n",
      " #   Column                Non-Null Count  Dtype  \n",
      "---  ------                --------------  -----  \n",
      " 0   uuid                  1581 non-null   object \n",
      " 1   url                   1581 non-null   object \n",
      " 2   course_data           1581 non-null   object \n",
      " 3   categorie_data        1581 non-null   object \n",
      " 4   keyword_data          1581 non-null   object \n",
      " 5   course_info_data      1581 non-null   object \n",
      " 6   course_id             1581 non-null   int64  \n",
      " 7   review_data           1581 non-null   object \n",
      " 8   grade                 1581 non-null   float64\n",
      " 9   stu_num               1581 non-null   int64  \n",
      " 10  teacher               1581 non-null   object \n",
      " 11  time                  1581 non-null   float64\n",
      " 12  level                 1581 non-null   int64  \n",
      " 13  price                 1581 non-null   int64  \n",
      " 14  course                1581 non-null   object \n",
      " 15  categorie             1581 non-null   object \n",
      " 16  keyword               1581 non-null   object \n",
      " 17  course_info           1581 non-null   object \n",
      " 18  review                1581 non-null   object \n",
      " 19  dibs_num              1581 non-null   object \n",
      " 20  teacher_info_data     1581 non-null   object \n",
      " 21  data_teacher_info_df  1581 non-null   object \n",
      "dtypes: float64(2), int64(4), object(16)\n",
      "memory usage: 284.1+ KB\n"
     ]
    }
   ],
   "source": [
    "concat_pd.info()"
   ]
  },
  {
   "cell_type": "code",
   "execution_count": 104,
   "id": "9f7fa7e5",
   "metadata": {
    "scrolled": true
   },
   "outputs": [],
   "source": [
    "# dataframe > sql삽입\n",
    "db = pymysql.connect(host='localhost', port=3306, user='root', passwd=passwd, db='mywork', charset='utf8')\n",
    "cursor = db.cursor()\n",
    "#14개 컬럼\n",
    "sql = \"\"\"INSERT INTO chat_bot_004 \n",
    "(uuid, url, course_data, categorie_data,keyword_data,course_info_data,course_id,review_data,grade,stu_num,teacher,playtime_data,\n",
    "level_data, price_data,course,categorie,keyword,course_info,review,dibs_num,teacher_info,teacher_info_data) \n",
    "VALUES(%s,%s,%s,%s,%s,%s,%s,%s,%s,%s,%s,%s,%s,%s,%s,%s,%s,%s,%s,%s,%s,%s);\"\"\"\n",
    "\n",
    "for i, row in concat_pd.iterrows():\n",
    "    cursor.execute(sql, tuple(row))\n",
    "    db.commit()"
   ]
  }
 ],
 "metadata": {
  "kernelspec": {
   "display_name": "Python 3 (ipykernel)",
   "language": "python",
   "name": "python3"
  },
  "language_info": {
   "codemirror_mode": {
    "name": "ipython",
    "version": 3
   },
   "file_extension": ".py",
   "mimetype": "text/x-python",
   "name": "python",
   "nbconvert_exporter": "python",
   "pygments_lexer": "ipython3",
   "version": "3.9.12"
  }
 },
 "nbformat": 4,
 "nbformat_minor": 5
}
