{
 "cells": [
  {
   "cell_type": "code",
   "execution_count": 267,
   "id": "d50f6392",
   "metadata": {},
   "outputs": [],
   "source": [
    "import pymysql\n",
    "import pandas as pd\n",
    "from sklearn.feature_extraction.text import TfidfVectorizer\n",
    "from sklearn.metrics.pairwise import cosine_similarity\n",
    "# DB 연결 - db 정보 업데이트 필요\n",
    "connection = pymysql.connect(host='3.38.252.50', port=50266, user='root', password='asd456',\n",
    "                       db='chatbotBase', charset='utf8')\n",
    "\n",
    "# db에서 데이터 추출하여 데이터프레임으로 저장\n",
    "with connection.cursor() as cursor:\n",
    "    sql = \"SELECT uuid, url, course_data, course, categorie, keyword, course_info FROM chat_bot220\"\n",
    "    cursor.execute(sql)  \n",
    "    rows = cursor.fetchall()\n",
    "    \n",
    "    df = pd.DataFrame(rows)\n",
    "#     print(df.head())\n",
    "\n",
    "connection.close()"
   ]
  },
  {
   "cell_type": "markdown",
   "id": "765a8bcf",
   "metadata": {},
   "source": [
    "# 전체 컬럼명\n",
    "['uuid', 'url', 'course_data', 'categorie_data', 'keyword_data', 'course_info_data', 'grade_data', 'stu_num_data', 'teacher_data', 'playtime_data', 'level_data', 'price_data', 'review_data', 'dibs_num_data', 'teacher_info_data', 'course', 'categorie', 'keyword', 'course_info', 'grade', 'stu_num', 'teacher', 'playtime', 'level', 'price', 'review', 'dibs_num', 'teacher_info', 'ori_data']"
   ]
  },
  {
   "cell_type": "code",
   "execution_count": 268,
   "id": "e12228f9",
   "metadata": {},
   "outputs": [],
   "source": [
    "# 데이터프레임 컬럼명 변경\n",
    "df.columns = ['uuid', 'url', 'course_data', 'course', 'categorie', 'keyword', 'course_info']"
   ]
  },
  {
   "cell_type": "code",
   "execution_count": 402,
   "id": "820c53c7",
   "metadata": {},
   "outputs": [],
   "source": [
    "df2 = df.copy()"
   ]
  },
  {
   "cell_type": "code",
   "execution_count": 403,
   "id": "90b44057",
   "metadata": {},
   "outputs": [],
   "source": [
    "# 계획\n",
    "# 강좌명, 카테고리, 키워드를 각각 df3, df4, df5, df6에 담은 후 함수를 통해 입력된 문장과 유사도가 높은 순서대로 내림차순 해주고 \n",
    "# 4 곳에서 각각의 랭킹 점수를 매겨서 합산 점수 상위 5개의 강의 인덱스를 반환한다"
   ]
  },
  {
   "cell_type": "code",
   "execution_count": 404,
   "id": "6c76f319",
   "metadata": {},
   "outputs": [],
   "source": [
    "df3 = df2[['uuid', 'course']].copy()\n",
    "df4 = df2[['uuid', 'categorie']].copy()\n",
    "df5 = df2[['uuid', 'keyword']].copy()\n",
    "df6 = df2[['uuid', 'course_info']].copy()"
   ]
  },
  {
   "cell_type": "code",
   "execution_count": 405,
   "id": "037ad772",
   "metadata": {},
   "outputs": [],
   "source": [
    "# TfidfVectorizer 로 문서 벡터화\n",
    "vectorizer = TfidfVectorizer()\n",
    "vectors4 = vectorizer.fit_transform(df6['course_info']) # 1360\n",
    "vectors = vectorizer.transform(df3['course']) # 1172\n",
    "vectors2 = vectorizer.transform(df4['categorie']) # 58\n",
    "vectors3 = vectorizer.transform(df5['keyword']) # 412"
   ]
  },
  {
   "cell_type": "code",
   "execution_count": 406,
   "id": "2d28eb44",
   "metadata": {},
   "outputs": [],
   "source": [
    "# 데이터프레임에 벡터 보관용 컬럼 추가\n",
    "df3['vectors'] = list(vectors.toarray())\n",
    "df4['vectors'] = list(vectors2.toarray())\n",
    "df5['vectors'] = list(vectors3.toarray())\n",
    "df6['vectors'] = list(vectors4.toarray())"
   ]
  },
  {
   "cell_type": "code",
   "execution_count": 407,
   "id": "792af3ef",
   "metadata": {},
   "outputs": [],
   "source": [
    "# input sentence와 제일 유사한 아이템 내림차순 정렬 함수\n",
    "def get_similar_documents(dataframe, input_sentence):\n",
    "    # input sentence 벡터화\n",
    "    input_vector = vectorizer.transform([input_sentence])\n",
    "\n",
    "    # input vector와 입력된 DataFrame의 vectors 값 유사도 계산\n",
    "    dit = dict()\n",
    "    for idx, x in enumerate(cosine_similarity(input_vector.toarray(), dataframe['vectors'].tolist())[0]):\n",
    "        dit[idx] = x\n",
    "        \n",
    "    # 유사도 높은 순으로 데이터프레임 내림차순 정렬\n",
    "    dataframe = dataframe.iloc[[x[0] for x in sorted(dit.items(), key=lambda x : x[1], reverse=True)]]\n",
    "    return dataframe"
   ]
  },
  {
   "cell_type": "code",
   "execution_count": 408,
   "id": "886d9749",
   "metadata": {},
   "outputs": [],
   "source": [
    "# 랭킹 점수 부여 함수\n",
    "def dataframe_rank(df):\n",
    "    df['rank'] = 0\n",
    "    for i in range(len(df)):\n",
    "        df['rank'][i] = len(df) - i\n",
    "    return df"
   ]
  },
  {
   "cell_type": "code",
   "execution_count": 409,
   "id": "8bd7f087",
   "metadata": {
    "scrolled": false
   },
   "outputs": [],
   "source": [
    "# get_similar_documents 함수 적용\n",
    "# input_sentence: 입력값 df3: 강좌명, df4: 카테고리, df5: 키워드, df6: 강의 정보\n",
    "input_sentence = \"R 데이터 사이언스 심화\"\n",
    "df3 = get_similar_documents(df3, input_sentence)\n",
    "df4 = get_similar_documents(df4, input_sentence)\n",
    "df5 = get_similar_documents(df5, input_sentence)\n",
    "df6 = get_similar_documents(df6, input_sentence)\n",
    "\n",
    "df3.reset_index(drop=True, inplace=True)\n",
    "df4.reset_index(drop=True, inplace=True)\n",
    "df5.reset_index(drop=True, inplace=True)\n",
    "df6.reset_index(drop=True, inplace=True)"
   ]
  },
  {
   "cell_type": "code",
   "execution_count": 414,
   "id": "7e545645",
   "metadata": {
    "scrolled": true
   },
   "outputs": [
    {
     "name": "stderr",
     "output_type": "stream",
     "text": [
      "C:\\Users\\Public\\Documents\\ESTsoft\\CreatorTemp\\ipykernel_2984\\1054700009.py:5: SettingWithCopyWarning: \n",
      "A value is trying to be set on a copy of a slice from a DataFrame\n",
      "\n",
      "See the caveats in the documentation: https://pandas.pydata.org/pandas-docs/stable/user_guide/indexing.html#returning-a-view-versus-a-copy\n",
      "  df['rank'][i] = len(df) - i\n"
     ]
    }
   ],
   "source": [
    "# 랭킹 점수 부여 함수 적용\n",
    "df3 = dataframe_rank(df3)\n",
    "df4 = dataframe_rank(df4)\n",
    "df5 = dataframe_rank(df5)\n",
    "df6 = dataframe_rank(df6)"
   ]
  },
  {
   "cell_type": "code",
   "execution_count": 411,
   "id": "290bc210",
   "metadata": {
    "scrolled": false
   },
   "outputs": [],
   "source": [
    "# 강좌명, 카테고리, 키워드, 강의 정보 랭킹 점수 합산\n",
    "\n",
    "df3.sort_values(by='uuid', inplace=True)\n",
    "df4.sort_values(by='uuid', inplace=True)\n",
    "df5.sort_values(by='uuid', inplace=True)\n",
    "df6.sort_values(by='uuid', inplace=True)\n",
    "\n",
    "df3.reset_index(drop=True, inplace=True)\n",
    "df4.reset_index(drop=True, inplace=True)\n",
    "df5.reset_index(drop=True, inplace=True)\n",
    "df6.reset_index(drop=True, inplace=True)\n",
    "\n",
    "df_ranked = df2[['uuid', 'url', 'course_data']].copy()\n",
    "df_ranked['rank_course'] = df3['rank']\n",
    "df_ranked['rank_category'] = df4['rank']\n",
    "df_ranked['rank_keyword'] = df5['rank']\n",
    "df_ranked['rank_course_info'] = df6['rank']\n",
    "\n",
    "df_ranked['rank_sum'] = df_ranked['rank_course'] + df_ranked['rank_category'] + df_ranked['rank_keyword'] + df_ranked['rank_course_info']\n",
    "df_ranked.sort_values(by='rank_sum', ascending=False, inplace=True)"
   ]
  },
  {
   "cell_type": "code",
   "execution_count": 412,
   "id": "50ef1a8f",
   "metadata": {},
   "outputs": [],
   "source": [
    "# output: uuid, 강의명, url\n",
    "output = df_ranked[['uuid', 'course_data', 'url']][:5]"
   ]
  },
  {
   "cell_type": "code",
   "execution_count": 413,
   "id": "4c3e5edc",
   "metadata": {},
   "outputs": [
    {
     "data": {
      "text/html": [
       "<div>\n",
       "<style scoped>\n",
       "    .dataframe tbody tr th:only-of-type {\n",
       "        vertical-align: middle;\n",
       "    }\n",
       "\n",
       "    .dataframe tbody tr th {\n",
       "        vertical-align: top;\n",
       "    }\n",
       "\n",
       "    .dataframe thead th {\n",
       "        text-align: right;\n",
       "    }\n",
       "</style>\n",
       "<table border=\"1\" class=\"dataframe\">\n",
       "  <thead>\n",
       "    <tr style=\"text-align: right;\">\n",
       "      <th></th>\n",
       "      <th>uuid</th>\n",
       "      <th>course_data</th>\n",
       "      <th>url</th>\n",
       "    </tr>\n",
       "  </thead>\n",
       "  <tbody>\n",
       "    <tr>\n",
       "      <th>87</th>\n",
       "      <td>0c2167a32974025179aa0b6adbf76ea08e9f2ba0a03d88...</td>\n",
       "      <td>캐글 실습으로 배우는 데이터 사이언스</td>\n",
       "      <td>https://www.inflearn.com/course/데이터-사이언스-kaggle</td>\n",
       "    </tr>\n",
       "    <tr>\n",
       "      <th>143</th>\n",
       "      <td>14eeee3c7a76039910a6bcabb4890631c5c1308567631e...</td>\n",
       "      <td>데이터 활용의 시작 - 데이터 이해와 시각화 기초</td>\n",
       "      <td>https://www.inflearn.com/course/데이터활용-이해-시각화-기초</td>\n",
       "    </tr>\n",
       "    <tr>\n",
       "      <th>106</th>\n",
       "      <td>0ee2c3340b41bad6e9b7bce8ffbb8bcc43110c1ec05489...</td>\n",
       "      <td>ELK 스택 (ElasticSearch, Logstash, Kibana) 으로 데이...</td>\n",
       "      <td>https://www.inflearn.com/course/elk-스택-데이터-분석</td>\n",
       "    </tr>\n",
       "    <tr>\n",
       "      <th>30</th>\n",
       "      <td>03b26e73b5f345b10564722bcc63199d6ab0837dd515bc...</td>\n",
       "      <td>핵심만 빠르게, 입문자를 위한 파이썬(Python)과 판다스(Pandas)</td>\n",
       "      <td>https://www.inflearn.com/course/핵심-입문자-파이썬-판다스</td>\n",
       "    </tr>\n",
       "    <tr>\n",
       "      <th>74</th>\n",
       "      <td>0a18d297ba3ee52f18291ae0f5c96f47bd33783dcefafc...</td>\n",
       "      <td>R 프로그램 - 시즌2</td>\n",
       "      <td>https://www.inflearn.com/course/r-프로그래밍-시즌2</td>\n",
       "    </tr>\n",
       "  </tbody>\n",
       "</table>\n",
       "</div>"
      ],
      "text/plain": [
       "                                                  uuid  \\\n",
       "87   0c2167a32974025179aa0b6adbf76ea08e9f2ba0a03d88...   \n",
       "143  14eeee3c7a76039910a6bcabb4890631c5c1308567631e...   \n",
       "106  0ee2c3340b41bad6e9b7bce8ffbb8bcc43110c1ec05489...   \n",
       "30   03b26e73b5f345b10564722bcc63199d6ab0837dd515bc...   \n",
       "74   0a18d297ba3ee52f18291ae0f5c96f47bd33783dcefafc...   \n",
       "\n",
       "                                           course_data  \\\n",
       "87                                캐글 실습으로 배우는 데이터 사이언스   \n",
       "143                        데이터 활용의 시작 - 데이터 이해와 시각화 기초   \n",
       "106  ELK 스택 (ElasticSearch, Logstash, Kibana) 으로 데이...   \n",
       "30           핵심만 빠르게, 입문자를 위한 파이썬(Python)과 판다스(Pandas)   \n",
       "74                                        R 프로그램 - 시즌2   \n",
       "\n",
       "                                                 url  \n",
       "87   https://www.inflearn.com/course/데이터-사이언스-kaggle  \n",
       "143  https://www.inflearn.com/course/데이터활용-이해-시각화-기초  \n",
       "106    https://www.inflearn.com/course/elk-스택-데이터-분석  \n",
       "30    https://www.inflearn.com/course/핵심-입문자-파이썬-판다스  \n",
       "74       https://www.inflearn.com/course/r-프로그래밍-시즌2  "
      ]
     },
     "execution_count": 413,
     "metadata": {},
     "output_type": "execute_result"
    }
   ],
   "source": [
    "output"
   ]
  }
 ],
 "metadata": {
  "kernelspec": {
   "display_name": "Python 3 (ipykernel)",
   "language": "python",
   "name": "python3"
  },
  "language_info": {
   "codemirror_mode": {
    "name": "ipython",
    "version": 3
   },
   "file_extension": ".py",
   "mimetype": "text/x-python",
   "name": "python",
   "nbconvert_exporter": "python",
   "pygments_lexer": "ipython3",
   "version": "3.9.12"
  }
 },
 "nbformat": 4,
 "nbformat_minor": 5
}
